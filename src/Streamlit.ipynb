{
    "cells": [
        {
            "cell_type": "markdown",
            "metadata": {},
            "source": [
                "Para realzar este ejercicio\n",
                "\n",
                "Se reprodujo una de las guias del canal freeCodeCamp.org\n",
                "\n",
                "link: https://www.youtube.com/watch?v=JwSS70SZdyM\n"
            ]
        },
        {
            "cell_type": "code",
            "execution_count": 3,
            "metadata": {},
            "outputs": [],
            "source": [
                "#!pip install yfinance\n",
                "#!pip install streamlit\n",
                "#!pip install pandas\n"
            ]
        },
        {
            "cell_type": "code",
            "execution_count": 4,
            "metadata": {},
            "outputs": [],
            "source": [
                "import yfinance as yf\n",
                "import streamlit as st \n",
                "import pandas as pd \n"
            ]
        },
        {
            "cell_type": "code",
            "execution_count": 5,
            "metadata": {},
            "outputs": [
                {
                    "name": "stderr",
                    "output_type": "stream",
                    "text": [
                        "2022-08-22 13:35:05.816 \n",
                        "  \u001b[33m\u001b[1mWarning:\u001b[0m to view this Streamlit app on a browser, run it with the following\n",
                        "  command:\n",
                        "\n",
                        "    streamlit run /home/gitpod/.pyenv/versions/3.8.13/lib/python3.8/site-packages/ipykernel_launcher.py [ARGUMENTS]\n"
                    ]
                }
            ],
            "source": [
                "st.write(\"\"\"\n",
                "\n",
                "Muestra de los precios y el cierre de las acciones de Google\n",
                "\n",
                "\"\"\")"
            ]
        },
        {
            "cell_type": "code",
            "execution_count": 6,
            "metadata": {},
            "outputs": [],
            "source": [
                "tickerSymbol = 'GOOGL'"
            ]
        },
        {
            "cell_type": "code",
            "execution_count": 7,
            "metadata": {},
            "outputs": [],
            "source": [
                "tickerData = yf.Ticker(tickerSymbol)"
            ]
        },
        {
            "cell_type": "code",
            "execution_count": 8,
            "metadata": {},
            "outputs": [],
            "source": [
                "tickerDF = tickerData.history(period='ld', start='2010-5-31', end='2020-5-31')"
            ]
        },
        {
            "cell_type": "code",
            "execution_count": 9,
            "metadata": {},
            "outputs": [
                {
                    "data": {
                        "text/plain": [
                            "DeltaGenerator(_root_container=0, _provided_cursor=None, _parent=None, _block_type=None, _form_data=None)"
                        ]
                    },
                    "execution_count": 9,
                    "metadata": {},
                    "output_type": "execute_result"
                }
            ],
            "source": [
                "st.line_chart(tickerDF.Close)\n",
                "st.line_chart(tickerDF.Volume)"
            ]
        }
    ],
    "metadata": {
        "kernelspec": {
            "display_name": "Python 3.8.13 64-bit ('3.8.13')",
            "language": "python",
            "name": "python3"
        },
        "language_info": {
            "codemirror_mode": {
                "name": "ipython",
                "version": 3
            },
            "file_extension": ".py",
            "mimetype": "text/x-python",
            "name": "python",
            "nbconvert_exporter": "python",
            "pygments_lexer": "ipython3",
            "version": "3.8.13"
        },
        "orig_nbformat": 4,
        "vscode": {
            "interpreter": {
                "hash": "110cc1dee26208153f2972f08a2ad52b6a56238dc66d48e87fb757ef2996db56"
            }
        }
    },
    "nbformat": 4,
    "nbformat_minor": 2
}
